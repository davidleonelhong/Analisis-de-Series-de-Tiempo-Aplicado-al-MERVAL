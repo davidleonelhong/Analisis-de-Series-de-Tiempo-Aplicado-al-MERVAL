{
 "cells": [
  {
   "cell_type": "markdown",
   "metadata": {},
   "source": [
    "# ANALISIS DE SERIES DE TIEMPO EN EL MERVAL\n",
    "\n",
    "Este analisis va a determinar si el indice MERVAL tiene un comportamiento de **random walk, reversion a la media o tendencia.**\n",
    "\n",
    "Cabe destacar que los datos utilizados parten desde **octubre 1996 hasta septiembre 2018**."
   ]
  },
  {
   "cell_type": "markdown",
   "metadata": {},
   "source": [
    "### Importamos las librerias necesarias para el analisis"
   ]
  },
  {
   "cell_type": "code",
   "execution_count": 1,
   "metadata": {},
   "outputs": [],
   "source": [
    "from __future__ import print_function"
   ]
  },
  {
   "cell_type": "code",
   "execution_count": 2,
   "metadata": {},
   "outputs": [
    {
     "name": "stderr",
     "output_type": "stream",
     "text": [
      "C:\\Users\\david\\Anaconda3\\lib\\site-packages\\statsmodels\\compat\\pandas.py:56: FutureWarning: The pandas.core.datetools module is deprecated and will be removed in a future version. Please use the pandas.tseries module instead.\n",
      "  from pandas.core import datetools\n"
     ]
    }
   ],
   "source": [
    "import statsmodels.tsa.stattools as ts"
   ]
  },
  {
   "cell_type": "code",
   "execution_count": 3,
   "metadata": {},
   "outputs": [],
   "source": [
    "from datetime import datetime\n",
    "import pandas as pd\n",
    "import numpy as np"
   ]
  },
  {
   "cell_type": "markdown",
   "metadata": {},
   "source": [
    "### Observamos si el directorio esta bien determinado (donde se encuentra nuestro archivo CSV)"
   ]
  },
  {
   "cell_type": "code",
   "execution_count": 4,
   "metadata": {},
   "outputs": [
    {
     "name": "stdout",
     "output_type": "stream",
     "text": [
      "C:\\Users\\david\\Documents\\Datasets\n"
     ]
    }
   ],
   "source": [
    "cd C:\\Users\\david\\Documents\\Datasets"
   ]
  },
  {
   "cell_type": "markdown",
   "metadata": {},
   "source": [
    "### Creamos una variable llamada MERVAL y cargamos los datos del CSV\n",
    "\n",
    "Creamos una segunda variable llamada MERV que va a contener solo los valores de cierre y dejamos afuera aquellos valores que faltan o son clasificados como NaN. Para eso utilizamos el **.dropna()** "
   ]
  },
  {
   "cell_type": "code",
   "execution_count": 5,
   "metadata": {},
   "outputs": [],
   "source": [
    "MERVAL = pd.read_csv(\"MERV.csv\")"
   ]
  },
  {
   "cell_type": "code",
   "execution_count": 6,
   "metadata": {},
   "outputs": [],
   "source": [
    "MERV = MERVAL['Adj Close'].dropna()"
   ]
  },
  {
   "cell_type": "markdown",
   "metadata": {},
   "source": [
    "### Realizamos el Augmented Dickey-Fuller (ADF) Test\n",
    "\n",
    "* **Valor 1:** test estadistico calculado.\n",
    "* **Valor 2:** p-value.\n",
    "* **Valor 4:** Numero de observaciones en la muestra.\n",
    "* **Valor 5:** Diccionario que contiene los valores criticos del test en 1%, 5% y 10%."
   ]
  },
  {
   "cell_type": "code",
   "execution_count": 7,
   "metadata": {},
   "outputs": [
    {
     "data": {
      "text/plain": [
       "(1.795529925159729,\n",
       " 0.9983401100418371,\n",
       " 1,\n",
       " 5369,\n",
       " {'1%': -3.431568556383375,\n",
       "  '10%': -2.567056631251383,\n",
       "  '5%': -2.862078478299543},\n",
       " 70529.76339805691)"
      ]
     },
     "execution_count": 7,
     "metadata": {},
     "output_type": "execute_result"
    }
   ],
   "source": [
    "ts.adfuller(MERV, 1)"
   ]
  },
  {
   "cell_type": "markdown",
   "metadata": {},
   "source": [
    "Debido a que el valor calculado del test estaditico es **mayor** que cualquiera de los valores criticos en los niveles porcentuales de 1, 5 y 10, **no podemos rechazar la hipotesis nula de γ = 0**. Por consecuente, el **MERVAL no tiene un comportamiento de reversion a la media.**"
   ]
  },
  {
   "cell_type": "markdown",
   "metadata": {},
   "source": [
    "### Importamos librerias faltantes para testear la Estacionariedad de la serie\n",
    "\n",
    "En una serie estacionaria, la media y varianza del proceso no cambia según tiempo y espacio (se mantienen constantes) y cada una no sigue tendencia alguna. Una característica de las series de precios estacionarias es que sus precios se dispersan de su valor inicial a un ritmo más lento que la del GBM. Calculando esta diffuse rate, podemos intendificar la naturaleza de la serie de tiempo y detectar si hay reversión a la media."
   ]
  },
  {
   "cell_type": "code",
   "execution_count": 8,
   "metadata": {},
   "outputs": [],
   "source": [
    "from numpy import cumsum, log, polyfit, sqrt, std, subtract\n",
    "from numpy.random import randn"
   ]
  },
  {
   "cell_type": "markdown",
   "metadata": {},
   "source": [
    "### Definimos la funcion para calcular el exponente de Hurst:\n",
    "\n",
    "Mediante el HE vamos a poder obtener un valor escalar que va a permitir identificar si la serie tiene una conducta de reversión a la media, random walk o tendencia. Se utiliza la varianza de una serie de tiempo logarítmica para evaluar la tasa del comportamiento difusivo."
   ]
  },
  {
   "cell_type": "code",
   "execution_count": 9,
   "metadata": {},
   "outputs": [],
   "source": [
    "def hurst(ts):\n",
    "    # Creamos el rango de valores laggeados\n",
    "    lags = range(2, 100)\n",
    "    # Calculamos la matriz de las varianzas de la diferencias laggeadas\n",
    "    tau = [sqrt(std(subtract(ts[lag:], ts[:-lag]))) for lag in lags]\n",
    "    # Usamos un ajuste linear para estimar el Exponente de Hurst\n",
    "    poly = polyfit(log(lags), log(tau), 1)\n",
    "    # Obtenemos el Hurst exponent del output de polyfit\n",
    "    return poly[0]*2.0"
   ]
  },
  {
   "cell_type": "markdown",
   "metadata": {},
   "source": [
    "### Creamos un Gometric Brownian Motion, una serie con reversion a la madia y una con tendencia"
   ]
  },
  {
   "cell_type": "code",
   "execution_count": 10,
   "metadata": {},
   "outputs": [],
   "source": [
    "gbm = log(cumsum(randn(100000))+1000)\n",
    "mr = log(randn(100000)+1000)\n",
    "tr = log(cumsum(randn(100000)+1)+1000)"
   ]
  },
  {
   "cell_type": "markdown",
   "metadata": {},
   "source": [
    "### Imprimimos el Output del Hurst Exponent para cada serie de arriba, asi tambien la del MERVAL para ver a que tipo de serie se asemeja"
   ]
  },
  {
   "cell_type": "code",
   "execution_count": 11,
   "metadata": {},
   "outputs": [
    {
     "name": "stdout",
     "output_type": "stream",
     "text": [
      "Hurst(GBM): 0.5050424010679435\n",
      "Hurst(MR): -0.0003196902786829352\n",
      "Hurst(TR): 0.9585081560083372\n",
      "Hurst(MERV): 0.45707976988379456\n"
     ]
    }
   ],
   "source": [
    "print(\"Hurst(GBM): %s\" % hurst(gbm))\n",
    "print(\"Hurst(MR): %s\" % hurst(mr))\n",
    "print(\"Hurst(TR): %s\" % hurst(tr))\n",
    "print(\"Hurst(MERV): %s\" % hurst(MERV))"
   ]
  },
  {
   "cell_type": "markdown",
   "metadata": {},
   "source": [
    "**Conclusion: Observamos que el exponente de Hurst del MERVAL es relativamente cercado a los valores de 0.5. Lo cual explica que el comportamiento del indice es mas similiar al de un GBM, random walk, que a una serie con reversion a la media o con tendencia.**"
   ]
  }
 ],
 "metadata": {
  "kernelspec": {
   "display_name": "Python 3",
   "language": "python",
   "name": "python3"
  },
  "language_info": {
   "codemirror_mode": {
    "name": "ipython",
    "version": 3
   },
   "file_extension": ".py",
   "mimetype": "text/x-python",
   "name": "python",
   "nbconvert_exporter": "python",
   "pygments_lexer": "ipython3",
   "version": "3.6.4"
  }
 },
 "nbformat": 4,
 "nbformat_minor": 2
}
